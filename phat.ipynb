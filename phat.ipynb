{
 "cells": [
  {
   "cell_type": "code",
   "execution_count": 1,
   "metadata": {},
   "outputs": [
    {
     "ename": "TypeError",
     "evalue": "join() argument must be str, bytes, or os.PathLike object, not 'NoneType'",
     "output_type": "error",
     "traceback": [
      "\u001b[1;31m---------------------------------------------------------------------------\u001b[0m",
      "\u001b[1;31mTypeError\u001b[0m                                 Traceback (most recent call last)",
      "Cell \u001b[1;32mIn[1], line 12\u001b[0m\n\u001b[0;32m      9\u001b[0m dataset_name \u001b[38;5;241m=\u001b[39m \u001b[38;5;124m\"\u001b[39m\u001b[38;5;124mreddit1401\u001b[39m\u001b[38;5;124m\"\u001b[39m\n\u001b[0;32m     11\u001b[0m \u001b[38;5;66;03m# Tạo một đối tượng GraphLoader để tải dữ liệu\u001b[39;00m\n\u001b[1;32m---> 12\u001b[0m graph_loader \u001b[38;5;241m=\u001b[39m \u001b[43mGraphLoader\u001b[49m\u001b[43m(\u001b[49m\u001b[43mname\u001b[49m\u001b[38;5;241;43m=\u001b[39;49m\u001b[43mdataset_name\u001b[49m\u001b[43m,\u001b[49m\u001b[43m \u001b[49m\u001b[43mroot\u001b[49m\u001b[38;5;241;43m=\u001b[39;49m\u001b[43mdata_root\u001b[49m\u001b[43m)\u001b[49m\n\u001b[0;32m     14\u001b[0m \u001b[38;5;66;03m# Tiền xử lý dữ liệu\u001b[39;00m\n\u001b[0;32m     15\u001b[0m graph_loader\u001b[38;5;241m.\u001b[39mprocess()\n",
      "File \u001b[1;32md:\\UIT\\cs106\\269_rl\\src\\utils\\dataloader.py:24\u001b[0m, in \u001b[0;36mGraphLoader.__init__\u001b[1;34m(self, name, root, undirected, hasX, hasY, header, sparse, multigraphindex, args)\u001b[0m\n\u001b[0;32m     22\u001b[0m \u001b[38;5;28mself\u001b[39m\u001b[38;5;241m.\u001b[39mdirname \u001b[38;5;241m=\u001b[39m os\u001b[38;5;241m.\u001b[39mpath\u001b[38;5;241m.\u001b[39mjoin(root,name)\n\u001b[0;32m     23\u001b[0m \u001b[38;5;28;01mif\u001b[39;00m name \u001b[38;5;241m==\u001b[39m \u001b[38;5;124m\"\u001b[39m\u001b[38;5;124mreddit1401\u001b[39m\u001b[38;5;124m\"\u001b[39m:\n\u001b[1;32m---> 24\u001b[0m     \u001b[38;5;28mself\u001b[39m\u001b[38;5;241m.\u001b[39mprefix \u001b[38;5;241m=\u001b[39m \u001b[43mos\u001b[49m\u001b[38;5;241;43m.\u001b[39;49m\u001b[43mpath\u001b[49m\u001b[38;5;241;43m.\u001b[39;49m\u001b[43mjoin\u001b[49m\u001b[43m(\u001b[49m\u001b[43mroot\u001b[49m\u001b[43m,\u001b[49m\u001b[43m \u001b[49m\u001b[43mname\u001b[49m\u001b[43m,\u001b[49m\u001b[43mmultigraphindex\u001b[49m\u001b[43m,\u001b[49m\u001b[43mmultigraphindex\u001b[49m\u001b[43m)\u001b[49m\n\u001b[0;32m     25\u001b[0m \u001b[38;5;28;01melse\u001b[39;00m:\n\u001b[0;32m     26\u001b[0m     \u001b[38;5;28mself\u001b[39m\u001b[38;5;241m.\u001b[39mprefix \u001b[38;5;241m=\u001b[39m os\u001b[38;5;241m.\u001b[39mpath\u001b[38;5;241m.\u001b[39mjoin(root,name,name)\n",
      "File \u001b[1;32m<frozen ntpath>:147\u001b[0m, in \u001b[0;36mjoin\u001b[1;34m(path, *paths)\u001b[0m\n",
      "File \u001b[1;32m<frozen genericpath>:152\u001b[0m, in \u001b[0;36m_check_arg_types\u001b[1;34m(funcname, *args)\u001b[0m\n",
      "\u001b[1;31mTypeError\u001b[0m: join() argument must be str, bytes, or os.PathLike object, not 'NoneType'"
     ]
    }
   ],
   "source": [
    "# Import các thư viện cần thiết\n",
    "import os\n",
    "from src.utils.dataloader import GraphLoader\n",
    "\n",
    "# Đường dẫn đến thư mục chứa dữ liệu\n",
    "data_root = \"./data\"\n",
    "\n",
    "# Tên của tập dữ liệu cần tải\n",
    "dataset_name = \"reddit1401\"\n",
    "\n",
    "# Tạo một đối tượng GraphLoader để tải dữ liệu\n",
    "graph_loader = GraphLoader(name=dataset_name, root=data_root)\n",
    "\n",
    "# Tiền xử lý dữ liệu\n",
    "graph_loader.process()\n",
    "\n",
    "# In ra thông tin thống kê về tập dữ liệu\n",
    "graph_loader.printStat()\n",
    "\n",
    "# Lấy các biến dữ liệu đã tải\n",
    "adj_matrix = graph_loader.adj\n",
    "feature_matrix = graph_loader.X\n",
    "label_matrix = graph_loader.Y\n",
    "\n",
    "# Đảm bảo dữ liệu đã được chuyển sang tensor và sao chép lên GPU nếu cần\n",
    "print(\"Kích thước ma trận đặc trưng:\", feature_matrix.size())\n",
    "print(\"Kích thước ma trận nhãn:\", label_matrix.size())\n"
   ]
  }
 ],
 "metadata": {
  "kernelspec": {
   "display_name": "Python 3",
   "language": "python",
   "name": "python3"
  },
  "language_info": {
   "codemirror_mode": {
    "name": "ipython",
    "version": 3
   },
   "file_extension": ".py",
   "mimetype": "text/x-python",
   "name": "python",
   "nbconvert_exporter": "python",
   "pygments_lexer": "ipython3",
   "version": "3.11.3"
  }
 },
 "nbformat": 4,
 "nbformat_minor": 2
}
